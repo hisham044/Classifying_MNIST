{
  "nbformat": 4,
  "nbformat_minor": 0,
  "metadata": {
    "colab": {
      "provenance": []
    },
    "kernelspec": {
      "name": "python3",
      "display_name": "Python 3"
    },
    "language_info": {
      "name": "python"
    }
  },
  "cells": [
    {
      "cell_type": "markdown",
      "source": [
        "# Project: Classifying MNIST\n",
        "Resource: Textbook-- Applied Machine Learning, David Forsyth.\n",
        "\n",
        "## Problem Statement \n",
        "Compare various classification algorithms on the MNIST dataset.\n",
        "\n",
        "## Description\n",
        "The MNIST dataset consists of 60,000 training and 10,000 test examples of handwritten digits ranging from \"0\" to \"9\". This dataset was originally constructed by Yann Lecun, Corinna Cortes, and Christopher J.C. Burges and is widely used to test simple methods.\n",
        "\n",
        "The images in this dataset are 28 x 28 pixels in size and were originally binary images but appear to be grey level images due to some anti-aliasing. To distinguish between ink and paper pixels, I can modify the data values using a threshold. Dark pixels will be called \"ink pixels\" and light pixels will be called \"paper pixels\".\n",
        "\n",
        "There are several options for re-centering the digits in the images which I will discuss below:\n",
        "\n",
        "**Untouched:** This option involves using the images as is without re-centering the digits.  \n",
        "**Bounding box:** This involves constructing a 20 x 20 bounding box such that the horizontal (resp. vertical) range of ink pixels is centered in the box.  \n",
        "**Stretched bounding box:** This option involves constructing a 20 x 20 bounding box such that the horizontal (resp. vertical) range of ink pixels runs the full horizontal (resp. vertical) range of the box. To obtain this representation, I would need to rescale the image pixels. I would find the horizontal and vertical ink range, cut that out of the original image, then resize the result to 20 x 20.  \n",
        "\n",
        "Once the image has been re-centered, I can compute features using the raw pixel values. The MNIST dataset has been extensively studied and there is a history of methods and feature constructions available at https://en.wikipedia.org/wiki/MNIST_database and at http://yann.lecun.com/exdb/mnist/. The best methods for this dataset perform extremely well. The original dataset can be found at http://yann.lecun.com/exdb/mnist/.\n"
      ],
      "metadata": {
        "id": "jbjGjgoSrkUI"
      }
    },
    {
      "cell_type": "markdown",
      "source": [
        "##Task 1: Data preprocessing \n",
        "\n"
      ],
      "metadata": {
        "id": "StV4UuCxpIEN"
      }
    },
    {
      "cell_type": "code",
      "source": [
        "# Import the necessary libraries\n",
        "import numpy as np\n",
        "import matplotlib.pyplot as plt\n",
        "import sklearn as sk\n",
        "import pandas as pd\n",
        "from keras.datasets import mnist\n",
        "from PIL import Image\n",
        "from skimage.transform import resize\n",
        "import matplotlib.patches as patches\n",
        "import time\n",
        "\n",
        "# Load the data the mnist dataset\n",
        "(train_X, train_y), (test_X, test_y) = mnist.load_data()"
      ],
      "metadata": {
        "id": "Gpclg0hMOKmu"
      },
      "execution_count": 4,
      "outputs": []
    },
    {
      "cell_type": "code",
      "source": [
        "threshold_value = 255//2\n",
        "\n",
        "# define a function to threshold the images\n",
        "def threshold_image(img, threshold_value):\n",
        "    image = np.where(img<=threshold_value, 0,1)\n",
        "    return image\n",
        "\n",
        "# Define a function to preprocess the images\n",
        "def preprocess_image(img):\n",
        "\n",
        "    nonzero_rows, nonzero_cols = np.nonzero(img)\n",
        "    min_row, max_row = np.min(nonzero_rows), np.max(nonzero_rows)\n",
        "    min_col, max_col = np.min(nonzero_cols), np.max(nonzero_cols)\n",
        "\n",
        "    image = img[min_row:max_row, min_col:max_col]\n",
        "\n",
        "    # Resize the image to 20x20\n",
        "    image = resize(image, (20, 20), anti_aliasing=True) \n",
        "    return image"
      ],
      "metadata": {
        "id": "oLITgyrAOOZZ"
      },
      "execution_count": 5,
      "outputs": []
    },
    {
      "cell_type": "code",
      "source": [
        "# Threshold the training data\n",
        "train_X_thresh = np.zeros((len(train_X), 28, 28))\n",
        "for i in range(len(train_X)):\n",
        "    train_X_thresh[i] = threshold_image(train_X[i], threshold_value)\n",
        "\n",
        "# Threshold the test data\n",
        "test_X_thresh = np.zeros((len(test_X), 28, 28))\n",
        "for i in range(len(test_X)):\n",
        "    test_X_thresh[i] = threshold_image(test_X[i], threshold_value)\n",
        "\n",
        "# Preprocess the training and test data\n",
        "train_X_processed = np.zeros((len(train_X_thresh), 20, 20))\n",
        "for i in range(len(train_X_thresh)):\n",
        "    train_X_processed[i] = preprocess_image(train_X_thresh[i])\n",
        "\n",
        "test_X_processed = np.zeros((len(test_X_thresh), 20, 20))\n",
        "for i in range(len(test_X_thresh)):\n",
        "    test_X_processed[i] = preprocess_image(test_X_thresh[i])\n",
        "\n",
        "# Threshold the processed images\n",
        "threshold_value_new = 0.5\n",
        "for i in range(len(train_X_processed)):\n",
        "    train_X_processed[i] = threshold_image(train_X_processed[i],threshold_value_new)\n",
        "for i in range(len(test_X_processed)):\n",
        "    test_X_processed[i] = threshold_image(test_X_processed[i],threshold_value_new)\n",
        "\n",
        "# plot the first 10 images in the training set\n",
        "fig, ax = plt.subplots(2, 5)\n",
        "for i in range(2):\n",
        "    for j in range(5):\n",
        "        ax[i, j].imshow(train_X_processed[i*5+j], cmap='gray')\n",
        "        ax[i, j].set_title(train_y[i*5+j])\n",
        "        ax[i, j].axis('off')\n",
        "plt.show()"
      ],
      "metadata": {
        "colab": {
          "base_uri": "https://localhost:8080/",
          "height": 346
        },
        "id": "ZvyLli0sPGmm",
        "outputId": "591eb2da-4e26-43d6-c539-30fa07144d78"
      },
      "execution_count": 6,
      "outputs": [
        {
          "output_type": "display_data",
          "data": {
            "text/plain": [
              "<Figure size 640x480 with 10 Axes>"
            ],
            "image/png": "[encoded data removed]"
          },
          "metadata": {}
        }
      ]
    },
    {
      "cell_type": "code",
      "source": [
        "# Choose a digit to plot\n",
        "digit_index = 89\n",
        "\n",
        "# Plot the original, thresholded, and preprocessed images of the digit\n",
        "fig, ax = plt.subplots(1, 3, figsize=(8, 3))\n",
        "\n",
        "# Original image\n",
        "ax[0].imshow(train_X[digit_index], cmap='gray')\n",
        "ax[0].set_title('Original')\n",
        "ax[0].axis('off')\n",
        "\n",
        "# Thresholded image\n",
        "ax[1].imshow(train_X_thresh[digit_index], cmap='gray')\n",
        "ax[1].set_title('Thresholded')\n",
        "ax[1].axis('off')\n",
        "\n",
        "# Preprocessed image\n",
        "ax[2].imshow(train_X_processed[digit_index], cmap='gray')\n",
        "ax[2].set_title('Preprocessed')\n",
        "ax[2].axis('off')\n",
        "\n",
        "plt.tight_layout()\n",
        "plt.show()"
      ],
      "metadata": {
        "colab": {
          "base_uri": "https://localhost:8080/",
          "height": 306
        },
        "id": "DLC2dliXPJkb",
        "outputId": "cc766a96-ced1-4ade-c94a-94335ad145f4"
      },
      "execution_count": 7,
      "outputs": [
        {
          "output_type": "display_data",
          "data": {
            "text/plain": [
              "<Figure size 800x300 with 3 Axes>"
            ],
            "image/png": "[encoded data removed]"
          },
          "metadata": {}
        }
      ]
    },
    {
      "cell_type": "markdown",
      "source": [
        "## Task 2: MNIST using Naive Bayes \n",
        "Investigate classifying MNIST using naive Bayes. "
      ],
      "metadata": {
        "id": "4dzIkhi4pLJg"
      }
    },
    {
      "cell_type": "code",
      "source": [
        "# Import the necessary libraries\n",
        "from sklearn.naive_bayes import GaussianNB\n",
        "import scipy.stats\n",
        "from sklearn.metrics import accuracy_score\n",
        "from sklearn.naive_bayes import BernoulliNB\n",
        "import time\n",
        "\n",
        "# flatten the images for the processed data and untouched data and thresholded data\n",
        "train_X_processed = train_X_processed.reshape(len(train_X_processed), -1)\n",
        "test_X_processed = test_X_processed.reshape(len(test_X_processed), -1)\n",
        "train_X = train_X.reshape(len(train_X), -1)\n",
        "test_X = test_X.reshape(len(test_X), -1)\n",
        "train_X_thresh = train_X_thresh.reshape(len(train_X_thresh), -1)\n",
        "test_X_thresh = test_X_thresh.reshape(len(test_X_thresh), -1)"
      ],
      "metadata": {
        "id": "nw8g1u2WK4ju"
      },
      "execution_count": 8,
      "outputs": []
    },
    {
      "cell_type": "code",
      "source": [
        "# Set up the Gaussian Naive Bayes classifier\n",
        "gnb = GaussianNB() \n",
        "\n",
        "# calculate start time for GaussianNB for untouched data\n",
        "start_time = time.time()\n",
        "\n",
        "# Gaussian Naive Bayes classifier for the untouched data\n",
        "gnb.fit(train_X, train_y)\n",
        "y_pred = gnb.predict(test_X)\n",
        "\n",
        "# Calculate the accuracy\n",
        "accry_GNB_untch = accuracy_score(test_y, y_pred)\n",
        "\n",
        "# Print the accuracy\n",
        "print(f\"Accuracy of GaussianNB for untouched data: {accry_GNB_untch}\")\n",
        "\n",
        "# calculate end time for GaussianNB for untouched data\n",
        "end_time = time.time()\n",
        "\n",
        "# calculate time taken for GaussianNB for untouched data\n",
        "time_GNB_untch = end_time - start_time\n",
        "print(f\"Time taken for GaussianNB for untouched data: {time_GNB_untch}\")\n",
        "\n",
        "# calculate time taken for GaussianNB for untouched data\n",
        "start_time = time.time()\n",
        "\n",
        "# Gaussian Naive Bayes classifier for the processed data\n",
        "gnb.fit(train_X_processed, train_y)\n",
        "y_pred = gnb.predict(test_X_processed)\n",
        "\n",
        "# Calculate the accuracy\n",
        "accry_GNB_procs = accuracy_score(test_y, y_pred)\n",
        "\n",
        "# Print the accuracy\n",
        "print(f\"Accuracy of GaussianNB for processed data: {accry_GNB_procs}\")\n",
        "\n",
        "# calculate end time for GaussianNB for untouched data\n",
        "end_time = time.time()\n",
        "\n",
        "# calculate time taken for GaussianNB for untouched data\n",
        "time_GNB_procs = end_time - start_time\n",
        "print(f\"Time taken for GaussianNB for processed data: {time_GNB_procs}\")"
      ],
      "metadata": {
        "colab": {
          "base_uri": "https://localhost:8080/"
        },
        "id": "bBZJ3KboTYnY",
        "outputId": "4eb5817a-2e2b-41b8-cc55-d47e4069768b"
      },
      "execution_count": 9,
      "outputs": [
        {
          "output_type": "stream",
          "name": "stdout",
          "text": [
            "Accuracy of GaussianNB for untouched data: 0.5558\n",
            "Time taken for GaussianNB for untouched data: 1.2039859294891357\n",
            "Accuracy of GaussianNB for processed data: 0.8205\n",
            "Time taken for GaussianNB for processed data: 0.848275899887085\n"
          ]
        }
      ]
    },
    {
      "cell_type": "code",
      "source": [
        "# Set up the Bernoulli Naive Bayes classifier\n",
        "bnb = BernoulliNB()\n",
        "\n",
        "# calculate start time for BernoulliNB for thresholded data\n",
        "start_time = time.time()\n",
        "\n",
        "# Bernoulli Naive Bayes classifier for the thresholded data\n",
        "bnb.fit(train_X_thresh, train_y)\n",
        "y_pred = bnb.predict(test_X_thresh)\n",
        "\n",
        "# Calculate the accuracy\n",
        "accry_BNB_Thresh = accuracy_score(test_y, y_pred)\n",
        "\n",
        "# Print the accuracy\n",
        "print(f\"Accuracy of BernoulliNB for thresholded data: {accry_BNB_Thresh}\")\n",
        "\n",
        "# calculate end time for BernoulliNB for thresholded data\n",
        "end_time = time.time()\n",
        "\n",
        "# calculate time taken for BernoulliNB for thresholded data\n",
        "time_BNB_Thresh = end_time - start_time\n",
        "print(f\"Time taken for BernoulliNB for thresholded data: {time_BNB_Thresh}\")\n",
        "\n",
        "\n",
        "# calculate start time for BernoulliNB for processed data\n",
        "start_time = time.time()\n",
        "\n",
        "# Bernoulli Naive Bayes classifier for the processed data\n",
        "bnb.fit(train_X_processed, train_y)\n",
        "y_pred = bnb.predict(test_X_processed)\n",
        "\n",
        "# Calculate the accuracy\n",
        "accry_BNB_procs = accuracy_score(test_y, y_pred)\n",
        "\n",
        "# Print the accuracy\n",
        "print(f\"Accuracy of BernoulliNB for processed data: {accry_BNB_procs}\")\n",
        "\n",
        "# calculate end time for BernoulliNB for processed data\n",
        "end_time = time.time()\n",
        "\n",
        "# calculate time taken for BernoulliNB for processed data\n",
        "time_BNB_procs = end_time - start_time\n",
        "print(f\"Time taken for BernoulliNB for processed data: {time_BNB_procs}\")"
      ],
      "metadata": {
        "colab": {
          "base_uri": "https://localhost:8080/"
        },
        "id": "DLOJAtD_UlW4",
        "outputId": "c63bbba2-1308-43b3-8f72-223fe20194e5"
      },
      "execution_count": 10,
      "outputs": [
        {
          "output_type": "stream",
          "name": "stdout",
          "text": [
            "Accuracy of BernoulliNB for thresholded data: 0.8427\n",
            "Time taken for BernoulliNB for thresholded data: 1.0530805587768555\n",
            "Accuracy of BernoulliNB for processed data: 0.8331\n",
            "Time taken for BernoulliNB for processed data: 0.4937760829925537\n"
          ]
        }
      ]
    },
    {
      "cell_type": "code",
      "source": [
        "print(\"Bernoulli with function from scratch\")\n",
        "\n",
        "## Bernoulli with function from scratch\n",
        "def BernoulliNB_classifier(train_X, train_y, test_X, test_y):\n",
        "    train_y = pd.Series(train_y) # Convert train_y to a Pandas Series object\n",
        "    test_y = pd.Series(test_y)   # Convert test_y to a Pandas Series object\n",
        "    # Calculate prior probability\n",
        "    prior_probability = {}\n",
        "    for i in train_y.unique():\n",
        "        prior_probability[i] = train_y.value_counts()[i]/len(train_y)\n",
        "    \n",
        "    # Calculate probability of each pixel being 0 given the digit\n",
        "    log_prob = []\n",
        "    for i in range(10):\n",
        "        digit_mask = (train_y == i)\n",
        "        digit_count = np.sum(digit_mask)\n",
        "        digit_pixels = train_X[digit_mask]\n",
        "        digit_log_prob = []\n",
        "        for j in range(digit_pixels.shape[1]):\n",
        "            pixel_mask = (digit_pixels[:, j] == 0)\n",
        "            pixel_count = np.sum(pixel_mask)\n",
        "            pixel_log_prob = np.log((digit_count - pixel_count + 1) / (digit_count + 2))\n",
        "            digit_log_prob.append(pixel_log_prob)\n",
        "        log_prob.append(digit_log_prob)\n",
        "    log_prob = np.array(log_prob).T\n",
        "    \n",
        "    # Calculate predicted labels\n",
        "    log_prior = np.log([prior_probability[i] for i in range(10)])\n",
        "    log_likelihood = np.dot(test_X, log_prob) + np.dot(1 - test_X, np.log(1 - np.exp(log_prob)) - np.log(np.exp(log_prob) + np.exp(np.log(1 - np.exp(log_prob)))))\n",
        "    log_posterior = log_prior + log_likelihood\n",
        "    predicted_labels = np.argmax(log_posterior, axis=1)\n",
        "    \n",
        "    # Calculate accuracy\n",
        "    accuracy = np.mean(predicted_labels == test_y)\n",
        "    \n",
        "    return accuracy\n",
        "\n",
        "# calculate start time for BernoulliNB scratch for thresholded data\n",
        "start_time = time.time()\n",
        "\n",
        "# Bernoulli Naive Bayes classifier for the thresholded data\n",
        "accry_BNB_thresh_fncn = BernoulliNB_classifier(train_X_thresh, train_y, test_X_thresh, test_y)\n",
        "print(f\"Accuracy of BernoulliNB for thresholded data: {accry_BNB_thresh_fncn}\")\n",
        "\n",
        "# calculate end time for BernoulliNB scratch for thresholded data\n",
        "end_time = time.time()\n",
        "\n",
        "# calculate time taken for BernoulliNB scratch for thresholded data\n",
        "time_BNB_Thresh_fncn = end_time - start_time\n",
        "print(f\"Time taken for BernoulliNB scratch for thresholded data: {time_BNB_Thresh_fncn}\")\n",
        "\n",
        "# calculate start time for BernoulliNB scratch for processed data\n",
        "start_time = time.time()\n",
        "\n",
        "# Bernoulli Naive Bayes classifier for the processed data\n",
        "accry_BNB_procs_fncn = BernoulliNB_classifier(train_X_processed, train_y, test_X_processed, test_y)\n",
        "print(f\"Accuracy of BernoulliNB for processed data: {accry_BNB_procs_fncn}\")\n",
        "\n",
        "# calculate end time for BernoulliNB scratch for processed data\n",
        "end_time = time.time()\n",
        "\n",
        "# calculate time taken for BernoulliNB scratch for processed data\n",
        "time_BNB_procs_fncn = end_time - start_time\n",
        "print(f\"Time taken for BernoulliNB scratch for processed data: {time_BNB_procs_fncn}\")"
      ],
      "metadata": {
        "colab": {
          "base_uri": "https://localhost:8080/"
        },
        "id": "eMp_hUU6UoPH",
        "outputId": "01e0bce6-7da0-4cf3-af8c-f83116181a98"
      },
      "execution_count": 11,
      "outputs": [
        {
          "output_type": "stream",
          "name": "stdout",
          "text": [
            "Bernoulli with function from scratch\n",
            "Accuracy of BernoulliNB for thresholded data: 0.8427\n",
            "Time taken for BernoulliNB scratch for thresholded data: 0.9877851009368896\n",
            "Accuracy of BernoulliNB for processed data: 0.8331\n",
            "Time taken for BernoulliNB scratch for processed data: 0.5372250080108643\n"
          ]
        }
      ]
    },
    {
      "cell_type": "markdown",
      "source": [
        "## Task 3: MNIST using SVM\n",
        "Investigate classifying MNIST using an SVM. "
      ],
      "metadata": {
        "id": "uuNEPo2Qw7xr"
      }
    },
    {
      "cell_type": "code",
      "source": [
        "## SVM with SVC\n",
        "# Import the necessary libraries\n",
        "from sklearn.svm import SVC\n",
        "\n",
        "## Support Vector Machine\n",
        "# Set up the Support Vector Machine classifier\n",
        "svm = SVC()\n",
        "\n",
        "# calculate the start time for svm for the untouched data\n",
        "start_time = time.time()\n",
        "\n",
        "# Support Vector Machine classifier for the untouched data\n",
        "svm.fit(train_X, train_y)\n",
        "\n",
        "# Predict the test data\n",
        "y_pred = svm.predict(test_X)\n",
        "\n",
        "# Calculate the accuracy\n",
        "accry_SVM_untch = accuracy_score(test_y, y_pred)\n",
        "\n",
        "# Print the accuracy\n",
        "print(f\"Accuracy of SVM for untouched data: {accry_SVM_untch}\")\n",
        "\n",
        "# calculate the end time for svm for the untouched data\n",
        "end_time = time.time()\n",
        "\n",
        "# calculate the time taken for svm for the untouched data\n",
        "time_taken = end_time - start_time\n",
        "print(f\"Time taken for SVM for untouched data: {time_taken}\")\n",
        "\n",
        "# calculate the start time for svm for the processed data\n",
        "start_time = time.time()\n",
        "\n",
        "# Support Vector Machine classifier for the processed data\n",
        "svm.fit(train_X_processed, train_y)\n",
        "\n",
        "# Predict the test data\n",
        "y_pred = svm.predict(test_X_processed)\n",
        "\n",
        "# Calculate the accuracy\n",
        "accry_SVM_procs = accuracy_score(test_y, y_pred)\n",
        "\n",
        "# Print the accuracy\n",
        "print(f\"Accuracy of SVM for processed data: {accry_SVM_procs}\")\n",
        "\n",
        "# calculate the end time for svm for the processed data\n",
        "end_time = time.time()\n",
        "\n",
        "# calculate the time taken for svm for the processed data\n",
        "time_taken = end_time - start_time\n",
        "print(f\"Time taken for SVM for processed data: {time_taken}\")"
      ],
      "metadata": {
        "id": "rgp1c78Nd3jb",
        "colab": {
          "base_uri": "https://localhost:8080/"
        },
        "outputId": "91408475-f6a3-46bd-8ab0-cce3e89c2a47"
      },
      "execution_count": 12,
      "outputs": [
        {
          "output_type": "stream",
          "name": "stdout",
          "text": [
            "Accuracy of SVM for untouched data: 0.9792\n",
            "Time taken for SVM for untouched data: 547.0726881027222\n",
            "Accuracy of SVM for processed data: 0.9778\n",
            "Time taken for SVM for processed data: 452.1665277481079\n"
          ]
        }
      ]
    },
    {
      "cell_type": "code",
      "source": [
        "## SVM with SGDClassifier\n",
        "# Import the necessary libraries\n",
        "from sklearn.linear_model import SGDClassifier\n",
        "\n",
        "# find the best lambda for the SGDClassifier\n",
        "best_alpha = 0\n",
        "best_accry = 0\n",
        "for i in range(1, 5):\n",
        "    # Set up the SGDClassifier classifier\n",
        "    sgd = SGDClassifier(alpha = i/1000)\n",
        "    # SGDClassifier classifier for the untouched data\n",
        "    sgd.fit(train_X, train_y)\n",
        "    # Predict the test data\n",
        "    y_pred = sgd.predict(test_X)\n",
        "    # Calculate the accuracy\n",
        "    accry_SGD_untch = accuracy_score(test_y, y_pred)\n",
        "    if accry_SGD_untch > best_accry:\n",
        "        best_alpha = i/1000\n",
        "        best_accry = accry_SGD_untch\n",
        "\n",
        "# print the best lambda\n",
        "print(f\"Best alpha for SGDClassifier: {best_alpha}\")\n",
        "\n",
        "# # Calculated best alpha for SGDClassifier\n",
        "# best_alpha = 0.003\n",
        "\n",
        "# Set up the SGDClassifier classifier\n",
        "sgd = SGDClassifier(alpha = best_alpha)\n",
        "\n",
        "# calculate the start time for sgd for the untouched data\n",
        "start_time = time.time()\n",
        "\n",
        "# SGDClassifier classifier for the untouched data\n",
        "sgd.fit(train_X, train_y)\n",
        "\n",
        "# Predict the test data\n",
        "y_pred = sgd.predict(test_X)\n",
        "\n",
        "# Calculate the accuracy\n",
        "accry_SGD_untch = accuracy_score(test_y, y_pred)\n",
        "\n",
        "# Print the accuracy\n",
        "print(f\"Accuracy of SGDClassifier for untouched data: {accry_SGD_untch}\")\n",
        "\n",
        "# calculate the end time for sgd for the untouched data\n",
        "end_time = time.time()\n",
        "\n",
        "# calculate the time taken for sgd for the untouched data\n",
        "time_taken = end_time - start_time\n",
        "print(f\"Time taken for SGDClassifier for untouched data: {time_taken}\")\n",
        "\n",
        "# calculate the start time for sgd for the processed data\n",
        "start_time = time.time()\n",
        "\n",
        "# SGDClassifier classifier for the processed data\n",
        "sgd.fit(train_X_processed, train_y)\n",
        "\n",
        "# Predict the test data\n",
        "y_pred = sgd.predict(test_X_processed)\n",
        "\n",
        "# Calculate the accuracy\n",
        "accry_SGD_procs = accuracy_score(test_y, y_pred)\n",
        "\n",
        "# Print the accuracy\n",
        "print(f\"Accuracy of SGDClassifier for processed data: {accry_SGD_procs}\")\n",
        "\n",
        "# calculate the end time for sgd for the processed data\n",
        "end_time = time.time()\n",
        "\n",
        "# calculate the time taken for sgd for the processed data\n",
        "time_taken = end_time - start_time\n",
        "print(f\"Time taken for SGDClassifier for processed data: {time_taken}\")"
      ],
      "metadata": {
        "colab": {
          "base_uri": "https://localhost:8080/"
        },
        "id": "vqY9GrBnWfH4",
        "outputId": "1866133e-c2d7-4d7d-b5a1-bb5a2ed41953"
      },
      "execution_count": 13,
      "outputs": [
        {
          "output_type": "stream",
          "name": "stdout",
          "text": [
            "Accuracy of SGDClassifier for untouched data: 0.8891\n",
            "Time taken for SGDClassifier for untouched data: 261.4959931373596\n",
            "Accuracy of SGDClassifier for processed data: 0.9091\n",
            "Time taken for SGDClassifier for processed data: 11.105544090270996\n"
          ]
        }
      ]
    },
    {
      "cell_type": "markdown",
      "source": [
        "## Task 4: MNIST using Decision Forest\n",
        "Investigate classifying MNIST using a decision forest. It is also called Random Forest."
      ],
      "metadata": {
        "id": "KpPSQoipxCTp"
      }
    },
    {
      "cell_type": "code",
      "source": [
        "# Import the libraries\n",
        "from sklearn.ensemble import RandomForestClassifier\n",
        "\n",
        "# Set up the list of n_estimators and max_depth\n",
        "n_estimators = [10, 30]\n",
        "max_depth = [4, 16]\n",
        "\n",
        "# Loop through the list of n_estimators and max_depth for the untouched data\n",
        "for n in n_estimators:\n",
        "    for d in max_depth:\n",
        "        # calculate the start time of n and d\n",
        "        start_time = time.time()\n",
        "\n",
        "        # Set up the Decision Forest classifier\n",
        "        clf = RandomForestClassifier(n_estimators=n, max_depth=d)\n",
        "\n",
        "        # Decision Forest classifier for the untouched data\n",
        "        clf.fit(train_X, train_y)\n",
        "\n",
        "        # Predict the test data\n",
        "        y_pred = clf.predict(test_X)\n",
        "\n",
        "        # Calculate the accuracy\n",
        "        accry_DF_Untouched = accuracy_score(test_y, y_pred)\n",
        "\n",
        "        # Print the accuracy\n",
        "        print(f\"Accuracy of Decision Forest for untouched data with n_estimators = {n} and max_depth = {d}: {accry_DF_Untouched}\")\n",
        "\n",
        "        # calculate the end time of n and d\n",
        "        end_time = time.time()\n",
        "\n",
        "        # calculate the time for running n and d\n",
        "        final_time = end_time - start_time\n",
        "\n",
        "        # print the time for running n and d\n",
        "        print(f\"Time for running n_estimators = {n} and max_depth = {d}: {final_time}\")\n",
        "\n",
        "# Loop through the list of n_estimators and max_depth for the processed data\n",
        "for n in n_estimators:\n",
        "    for d in max_depth:\n",
        "        # calculate the start time of n and d\n",
        "        start_time = time.time()\n",
        "\n",
        "        # Set up the Decision Forest classifier\n",
        "        clf = RandomForestClassifier(n_estimators=n, max_depth=d)\n",
        "\n",
        "        # Decision Forest classifier for the processed data\n",
        "        clf.fit(train_X_processed, train_y)\n",
        "\n",
        "        # Predict the test data\n",
        "        y_pred = clf.predict(test_X_processed)\n",
        "\n",
        "        # Calculate the accuracy\n",
        "        accry_DF_Processed = accuracy_score(test_y, y_pred)\n",
        "\n",
        "        # Print the accuracy\n",
        "        print(f\"Accuracy of Decision Forest for processed data with n_estimators = {n} and max_depth = {d}: {accry_DF_Processed}\")\n",
        "\n",
        "        # calculate the end time of n and d\n",
        "        end_time = time.time()\n",
        "\n",
        "        # calculate the time for running n and d\n",
        "        final_time = end_time - start_time\n",
        "\n",
        "        # print the time for running n and d\n",
        "        print(f\"Time for running n_estimators = {n} and max_depth = {d}: {final_time}\")"
      ],
      "metadata": {
        "colab": {
          "base_uri": "https://localhost:8080/"
        },
        "id": "RfCizf6WLAuP",
        "outputId": "8a16f9ca-32cd-4ad8-ce3e-a1cf06470043"
      },
      "execution_count": 14,
      "outputs": [
        {
          "output_type": "stream",
          "name": "stdout",
          "text": [
            "Accuracy of Decision Forest for untouched data with n_estimators = 10 and max_depth = 4: 0.7607\n",
            "Time for running n_estimators = 10 and max_depth = 4: 1.6781399250030518\n",
            "Accuracy of Decision Forest for untouched data with n_estimators = 10 and max_depth = 16: 0.9472\n",
            "Time for running n_estimators = 10 and max_depth = 16: 4.781655550003052\n",
            "Accuracy of Decision Forest for untouched data with n_estimators = 30 and max_depth = 4: 0.7816\n",
            "Time for running n_estimators = 30 and max_depth = 4: 4.147298097610474\n",
            "Accuracy of Decision Forest for untouched data with n_estimators = 30 and max_depth = 16: 0.9611\n",
            "Time for running n_estimators = 30 and max_depth = 16: 13.942634105682373\n",
            "Accuracy of Decision Forest for processed data with n_estimators = 10 and max_depth = 4: 0.7453\n",
            "Time for running n_estimators = 10 and max_depth = 4: 1.3371238708496094\n",
            "Accuracy of Decision Forest for processed data with n_estimators = 10 and max_depth = 16: 0.9474\n",
            "Time for running n_estimators = 10 and max_depth = 16: 2.1245131492614746\n",
            "Accuracy of Decision Forest for processed data with n_estimators = 30 and max_depth = 4: 0.7617\n",
            "Time for running n_estimators = 30 and max_depth = 4: 3.0388104915618896\n",
            "Accuracy of Decision Forest for processed data with n_estimators = 30 and max_depth = 16: 0.963\n",
            "Time for running n_estimators = 30 and max_depth = 16: 7.0373194217681885\n"
          ]
        }
      ]
    },
    {
      "cell_type": "markdown",
      "source": [
        "## Task 5: MNIST using Nearest Neighbours\n",
        "Investigate classifying MNIST using nearest neighbors. "
      ],
      "metadata": {
        "id": "rfe7O8wexUL0"
      }
    },
    {
      "cell_type": "code",
      "source": [
        "# Import the libraries\n",
        "from sklearn.neighbors import KNeighborsClassifier\n",
        "\n",
        "# Set up the kNN classifier\n",
        "K = 3\n",
        "knn = KNeighborsClassifier(n_neighbors=K)\n",
        "\n",
        "# calculate the start time for kNN for the untouched data\n",
        "start_time = time.time()\n",
        "\n",
        "# fit the model\n",
        "knn.fit(train_X, train_y)\n",
        "\n",
        "# predict\n",
        "y_pred = knn.predict(test_X)\n",
        "\n",
        "# Calculate the accuracy\n",
        "accry_kNN_untch = accuracy_score(test_y, y_pred)\n",
        "\n",
        "# Print the accuracy\n",
        "print(f\"Accuracy of kNN for untouched data: {accry_kNN_untch}\")\n",
        "\n",
        "# calculate the end time for kNN for the untouched data\n",
        "end_time = time.time()\n",
        "\n",
        "# calculate the time taken for kNN for the untouched data\n",
        "time_taken = end_time - start_time\n",
        "print(f\"Time taken for kNN for untouched data: {time_taken}\")\n",
        "\n",
        "# calculate the start time for kNN for the thresholded data\n",
        "start_time = time.time()\n",
        "\n",
        "# fit the model\n",
        "knn.fit(train_X_thresh, train_y)\n",
        "\n",
        "# predict\n",
        "y_pred = knn.predict(test_X_thresh)\n",
        "\n",
        "# Calculate the accuracy\n",
        "accry_kNN_Thresh = accuracy_score(test_y, y_pred)\n",
        "\n",
        "# Print the accuracy\n",
        "print(f\"Accuracy of kNN for thresholded data: {accry_kNN_Thresh}\")\n",
        "\n",
        "# calculate the end time for kNN for the thresholded data\n",
        "end_time = time.time()\n",
        "\n",
        "# calculate the time taken for kNN for the thresholded data\n",
        "time_taken = end_time - start_time\n",
        "print(f\"Time taken for kNN for thresholded data: {time_taken}\")\n",
        "\n",
        "# calculate the start time for kNN for the processed data\n",
        "start_time = time.time()\n",
        "\n",
        "# fit the model\n",
        "knn.fit(train_X_processed, train_y)\n",
        "\n",
        "# predict\n",
        "y_pred = knn.predict(test_X_processed)\n",
        "\n",
        "# Calculate the accuracy\n",
        "accry_kNN_procs = accuracy_score(test_y, y_pred)\n",
        "\n",
        "# Print the accuracy\n",
        "print(f\"Accuracy of kNN for processed data: {accry_kNN_procs}\")\n",
        "\n",
        "# calculate the end time for kNN for the processed data\n",
        "end_time = time.time()\n",
        "\n",
        "# calculate the time taken for kNN for the processed data\n",
        "time_taken = end_time - start_time\n",
        "print(f\"Time taken for kNN for processed data: {time_taken}\")"
      ],
      "metadata": {
        "colab": {
          "base_uri": "https://localhost:8080/"
        },
        "id": "Ll0F2LeaLBej",
        "outputId": "8dd5278b-a112-471f-b5f5-b2856d82c28c"
      },
      "execution_count": 16,
      "outputs": [
        {
          "output_type": "stream",
          "name": "stdout",
          "text": [
            "Accuracy of kNN for untouched data: 0.9705\n",
            "Time taken for kNN for untouched data: 51.47716665267944\n",
            "Accuracy of kNN for thresholded data: 0.9575\n",
            "Time taken for kNN for thresholded data: 36.523547410964966\n",
            "Accuracy of kNN for processed data: 0.9627\n",
            "Time taken for kNN for processed data: 19.61429524421692\n"
          ]
        }
      ]
    },
    {
      "cell_type": "markdown",
      "source": [
        "## Task 6: Reflection "
      ],
      "metadata": {
        "id": "s5BiEBD2xQs9"
      }
    },
    {
      "cell_type": "markdown",
      "source": [
        "**MNIST Accuracies**\n",
        "\n",
        "| X   | Method                             | Accuracy\t| Time (s) |\n",
        "|-----|------------------------------------|----------|----------|\n",
        "| 1   | Gaussian + untouched               |  0.5558  |   1.20   |\n",
        "| 2   | Gaussian + preprocessed            |  0.8205  |   0.84   |\n",
        "| 3   | Bernoulli + thresholded            |  0.8427  |   1.05   |\n",
        "| 4   | Bernoulli + preprocessed           |  0.8331  |   0.49   |\n",
        "| 5   | SVM (SVC) + untouched              |  0.9792  | 547.07   |\n",
        "| 6   | SVM (SVC) + preprocessed           |  0.9778  | 452.16   |\n",
        "| 7   | SVM (SGD) + untouched              |  0.8891  | 261.49   |\n",
        "| 8   | SVM (SGD) + preprocessed           |  0.9091  |  11.10   |\n",
        "| 9   | 10 trees + 4 depth + untouched     |  0.7607  |   1.67   |\n",
        "| 10  | 10 trees + 4 depth + preprocessed  |  0.7453  |   1.33   |\n",
        "| 11  | 10 trees + 16 depth + untouched    |  0.9472  |   4.78   |\n",
        "| 12  | 10 trees + 16 depth + preprocessed |  0.9474  |   2.12   |\n",
        "| 13  | 30 trees + 4 depth + untouched     |  0.7816  |   4.14   |\n",
        "| 14  | 30 trees + 4 depth + preprocessed  |  0.7617  |   3.03   |\n",
        "| 15  | 30 trees + 16 depth + untouched    |  0.9611  |  13.94   |\n",
        "| 16  | 30 trees + 16 depth + preprocessed |  0.963   |   7.03   |\n",
        "| 17  | kNN + untouched                    |  0.9705  |  51.47   |\n",
        "| 18  | kNN + thresholded                  |  0.9575  |  36.52   |\n",
        "| 19  | kNN + preprocessed                 |  0.9627  |  19.61   |\n"
      ],
      "metadata": {
        "id": "D9ww8MXlo73Q"
      }
    },
    {
      "cell_type": "markdown",
      "source": [
        "Looking at the table, it seems that the best overall method is indeed method number 16, which uses 30 decision trees with a depth of 16 and preprocessed data, achieving an accuracy of 0.963 with a relatively fast processing time of 7.03 seconds.\n",
        "\n",
        "However, there are some other noteworthy methods as well. For example, the SVM (SVC) method with untouched data (method 5) achieved an accuracy of 0.9792, which is the highest accuracy achieved among all the methods. However, the processing time for this method is very high compared to other methods, taking more than 9 minutes to complete.\n",
        "\n",
        "In terms of accuracy, the best methods are the SVM (SVC) + untouched (97.92%) and SVM (SVC) + preprocessed (97.78%). These methods use support vector machines with different kernel functions to separate the different classes in the dataset. They achieve very high accuracy, which is not surprising given the success of SVMs in many classification tasks.\n",
        "\n",
        "In terms of time, the fastest methods are the Bernoulli + preprocessed (0.49 seconds), Desicision Forest + preprocessed, SVM (SGD) + preprocessed (11.10 seconds), and kNN + preprocessed (19.61 seconds). These methods use simple preprocessing techniques and fast algorithms, which allow them to classify the images quickly.\n",
        "\n",
        "If we consider both accuracy and time, some of the best methods are the Bernoulli + thresholded (84.27% accuracy in 1.05 seconds), SVM (SGD) + preprocessed (90.91% accuracy in 11.10 seconds), and kNN + preprocessed (96.27% accuracy in 19.61 seconds). These methods achieve a good balance between accuracy and time, making them practical for real-world applications.\n",
        "\n",
        "In terms of preprocessing techniques, the best method is Bernoulli + preprocessed, which achieves 83.31% accuracy in only 0.49 seconds. This method uses a binarization technique to convert the grayscale images into binary images, which simplifies the classification task. The Bernoulli method with thresholding (method 3) and preprocessed data (method 4) achieved similar accuracies, with method 3 achieving slightly better results. On the other hand, the SVM (SGD) method with preprocessed data (method 8) achieved a higher accuracy compared to the same method with untouched data (method 7), indicating the effectiveness of data preprocessing for this method.\n",
        "\n",
        "In terms of decision tree parameters, it seems that increasing the depth of the trees improved accuracy in some cases (e.g. method 11 and 12 compared to methods 9 and 10), but not in others (e.g. method 15 and 16 compared to methods 13 and 14). This suggests that the optimal depth for decision trees may depend on the specific dataset and problem.\n",
        "\n",
        "Finally, it's worth noting that the kNN method (methods 17-19) achieved relatively high accuracies while also being faster compared to some of the other methods, especially when using preprocessed data (method 19).\n",
        "\n",
        "Overall, the best method for this MNIST classification task considering both accuracy and time is method 16, which uses decision trees. However, the specific method that should be used may depend on the specific needs of the user, such as the desired accuracy and processing time."
      ],
      "metadata": {
        "id": "T_O8T7ihoKFH"
      }
    }
  ]
}